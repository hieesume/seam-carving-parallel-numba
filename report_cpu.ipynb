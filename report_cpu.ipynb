{
  "nbformat": 4,
  "nbformat_minor": 0,
  "metadata": {
    "colab": {
      "name": "report_cpu.ipynb",
      "provenance": [],
      "collapsed_sections": [],
      "toc_visible": true
    },
    "kernelspec": {
      "display_name": "Python 3",
      "name": "python3"
    },
    "language_info": {
      "name": "python"
    }
  },
  "cells": [
    {
      "cell_type": "markdown",
      "metadata": {
        "id": "3xIqYm99X4Np"
      },
      "source": [
        "# Báo cáo Đồ án Song song hóa và tối ưu hóa một ứng dụng\n",
        "- Thông tin nhóm\n",
        "  - Lê Thanh Hiếu - 1712434\n",
        "  - Nguyễn Văn Tuấn - 1512638\n",
        "  - Phan Hữu Tú - 1712861\n",
        "\n",
        "- Đề tài: **Thay đổi kích thước ảnh bằng Seam Carving**"
      ]
    },
    {
      "cell_type": "code",
      "metadata": {
        "colab": {
          "base_uri": "https://localhost:8080/"
        },
        "id": "VO50h8YoWLFr",
        "outputId": "12f1692d-3320-4961-b9ab-afd01348945b"
      },
      "source": [
        "# import image file from drive\n",
        "from google.colab import drive\n",
        "drive.mount('/content/drive')"
      ],
      "execution_count": null,
      "outputs": [
        {
          "output_type": "stream",
          "text": [
            "Drive already mounted at /content/drive; to attempt to forcibly remount, call drive.mount(\"/content/drive\", force_remount=True).\n"
          ],
          "name": "stdout"
        }
      ]
    },
    {
      "cell_type": "code",
      "metadata": {
        "colab": {
          "base_uri": "https://localhost:8080/"
        },
        "id": "KhkhFUnwXagu",
        "outputId": "b46c8d4e-6486-4cd6-bc5a-25d250bb821d"
      },
      "source": [
        "import os\n",
        "os.chdir('/content/drive/My Drive/LTSSUD/gpu-python')\n",
        "!ls"
      ],
      "execution_count": null,
      "outputs": [
        {
          "output_type": "stream",
          "text": [
            "images\t__pycache__  README.md\treport_cpu.ipynb  seam_carving.py  test.py\n"
          ],
          "name": "stdout"
        }
      ]
    },
    {
      "cell_type": "code",
      "metadata": {
        "id": "piKpmLztWX6j"
      },
      "source": [
        "from IPython.display import Image"
      ],
      "execution_count": null,
      "outputs": []
    },
    {
      "cell_type": "code",
      "metadata": {
        "id": "pVIJLpD6cnGO"
      },
      "source": [
        "from numba.core.errors import NumbaDeprecationWarning, NumbaPendingDeprecationWarning\n",
        "import warnings\n",
        "\n",
        "warnings.simplefilter('ignore', category=NumbaDeprecationWarning)\n",
        "warnings.simplefilter('ignore', category=NumbaPendingDeprecationWarning)"
      ],
      "execution_count": null,
      "outputs": []
    },
    {
      "cell_type": "markdown",
      "metadata": {
        "id": "oMOTeJ9GcG05"
      },
      "source": [
        "## 1. Mô tả ứng dụng\n",
        "- **Input**: một tấm ảnh (RGB)\n",
        "- **Output**: một tấm ảnh mới được thay đổi kích thước (không chỉ cho chiều rộng mà còn cho chiều cao, không chỉ thu nhỏ mà còn phóng to) từ tấm ảnh gốc mà không làm biến dạng các đối tượng quan trọng.\n",
        "   \n",
        "- **Ý nghĩa thực tế khi sử dụng?**\n",
        "  \n",
        "   Ý nghĩa vô cùng to lớn trong các hệ thống lớn, nhất là hệ thống web mà hiển thị nhiều sản phẩm ảnh, ví dụ chúng ta sẽ check vào đường mạng của người dùng mà render ảnh đúng với tốc độ đường truyền đó, ví dụ với tốc độ của 3G thì ta sẽ response ảnh với size nhỏ hơn, tuỳ vào đường truyền mà ta sẽ cho người dùng sự trải nghiệm loading trên web tốt nhất. vây câu hỏi đặt ra chúng ta sẽ làm gì tất nhiên là resize ảnh(auto) seam carving giúp chúng ta làm điều đó tốt hơn bao giờ hết. 1 ví dụ khác khi tạo thubnail cho 1 video chúng ta sẽ dựa vào nhưng yếu tố khác để resize ảnh về đúng khung hình ta mong muốn như màn hình điện thoại 16:9 , 3:4\n",
        "- Ứng dụng này có cần tăng tốc không?\n",
        "  Vì seam carving được cài đặt theo quy hoạch động tốn rất nhiều time tính toán.\n",
        "- Cải tiến và mở rộng\n",
        "  +  Triển khai nhanh hơn trên GPU.\n",
        "  + Đa toán tử: Kết hợp với cắt xén và chia tỷ lệ.\n",
        "  + Loại bỏ nhiều đường nối nhanh hơn nhiều"
      ]
    },
    {
      "cell_type": "markdown",
      "metadata": {
        "id": "76lJE8TAYCOO"
      },
      "source": [
        "## 2. Cài đặt tuần tự\n"
      ]
    },
    {
      "cell_type": "markdown",
      "metadata": {
        "id": "aqUbPuiqcJ-Y"
      },
      "source": [
        "### 2.1. Các bước triển khai thuật toán\n",
        "- **Ý tưởng**: việc thay đổi kích thước ảnh được thực hiện bằng cách loại bỏ đi các điểm ảnh ít quan trọng và giữ lại các điểm ảnh quan trọng.\n",
        "\n",
        "\n"
      ]
    },
    {
      "cell_type": "markdown",
      "metadata": {
        "id": "_S1yl5PMaFCK"
      },
      "source": [
        "#### Workflow\n",
        "![](https://github.com/kalpeshdusane/Seam-Carving-B.E.-Project/raw/master/readmeImage/flowchart.png)\n",
        "\n",
        "> Nguồn: https://github.com/kalpeshdusane/Seam-Carving-B.E.-Project"
      ]
    },
    {
      "cell_type": "markdown",
      "metadata": {
        "id": "34jIRDYTlXbc"
      },
      "source": [
        "\n",
        "#### Thuật toán xóa seam theo cột\n",
        "  - Bước 1: Chuyển ảnh từ RGB sang Grayscale\n",
        "  - Bước 2: Tính bảng Energy của ảnh\n",
        "  - Bước 3: Tìm bảng chi phí nhỏ nhất\n",
        "  - Bước 4: Tìm seam có chi phí nhỏ nhất\n",
        "  - Bước 5: Xóa seam nhỏ nhất tìm được ở bước 4\n",
        "  - Bước 6: Lặp lại bước 5 cho tới khi xóa  đủ số seams cần xóa\n"
      ]
    },
    {
      "cell_type": "markdown",
      "metadata": {
        "id": "4PwDJ0S_4QPn"
      },
      "source": [
        "#### Thuật toán xóa seam theo hàng\n",
        "  - Bước 1: Xoay ảnh một góc 90 độ theo chiều kim đồng hồ\n",
        "  - Bước 2: Lặp lại thuật toán xóa seam theo cột cho đến khi xóa đủ số seams cần xóa\n",
        "  - Bước 3: Xoay ảnh lại một góc 90 độ ngược chiều kim đồng hồ"
      ]
    },
    {
      "cell_type": "markdown",
      "metadata": {
        "id": "u5aZHBRf4TFS"
      },
      "source": [
        "#### Thuật toán chèn seam theo cột\n",
        "  - Bước 1: Thực hiện thuật toán xóa seam theo cột trên một ảnh được sao chép từ ảnh gốc và lưu lại danh sách các điểm ảnh đã xóa theo đúng thứ tự đã xóa\n",
        "  - Bước 2: Chèn các seams vào ảnh gốc theo đúng thứ tự tọa độ đã lưu. Với giá trị của pixel được chèn được lấy bằng trung bình của 2 pixels kế bên."
      ]
    },
    {
      "cell_type": "markdown",
      "metadata": {
        "id": "gQnIuv3r4UYw"
      },
      "source": [
        "#### Thuật toán chèn seam theo hàng\n",
        "  - Bước 1: Xoay ản 90 độ theo chiều kim đồng hồ\n",
        "  - Bước 2: Thực hiện thuật toán chèn seam theo cột cho đến khi đủ số seams cần xóa\n",
        "  - Bước 3: Xoay ảnh lại một góc 90 độ ngược chiều kim đồng hồ"
      ]
    },
    {
      "cell_type": "markdown",
      "metadata": {
        "id": "E4quhweLaPmh"
      },
      "source": [
        "### 2.2. Chi tiết thuật toán"
      ]
    },
    {
      "source": [
        "#### Xây dựng bảng Energy\n"
      ],
      "cell_type": "markdown",
      "metadata": {}
    },
    {
      "source": [
        "#### Xây dựng bảng chi phí nhỏ nhất\n",
        "- Sử dụng Dynamic Programming để xây dựng bảng chi phí nhỏ nhất\n",
        "    - Ở hàng trên cùng ta có tổng chi phí giữ nguyên<br/><br/><img src=\"https://upload.wikimedia.org/wikipedia/commons/thumb/7/74/DynamicProgrammingLeastEnergyPathA.svg/840px-DynamicProgrammingLeastEnergyPathA.svg.png\" width=\"400\">  \n",
        "    - Với các hàng còn lại, chi phí của mỗi pixel bằng engergy của nó cộng với chi phí nhỏ nhất của 3 pixel liền kề phía trên. Lặp lại cho đến hàng cuối cùng<br/><br/><img src=\"https://upload.wikimedia.org/wikipedia/commons/thumb/c/c2/DynamicProgrammingLeastEnergyPathB.svg/840px-DynamicProgrammingLeastEnergyPathB.svg.png\" width=\"400\">"
      ],
      "cell_type": "markdown",
      "metadata": {}
    },
    {
      "source": [
        "#### Xác định seam nhỏ nhất\n",
        "- Từ bảng chi phí nhỏ nhất trên ta xác định được vị trí có tổng chi phí nhỏ nhất ở hàng cuối cùng và quay lui để xác định seam nhỏ nhất<br/><br/><img src=\"https://upload.wikimedia.org/wikipedia/commons/thumb/0/05/DynamicProgrammingLeastEnergyPathC.svg/840px-DynamicProgrammingLeastEnergyPathC.svg.png\" width=\"400\">"
      ],
      "cell_type": "markdown",
      "metadata": {}
    },
    {
      "cell_type": "markdown",
      "metadata": {
        "id": "zNoc6i8mcRdj"
      },
      "source": [
        "## 3. Cài đặt song song"
      ]
    },
    {
      "cell_type": "markdown",
      "metadata": {
        "id": "V_Byj2MjcViX"
      },
      "source": [
        "## 4. Tối ưu hóa cài đặt song song"
      ]
    },
    {
      "cell_type": "markdown",
      "metadata": {
        "id": "kdfYaOCrcwfW"
      },
      "source": [
        "## 5. Nhìn lại quá trình làm đồ án"
      ]
    },
    {
      "cell_type": "markdown",
      "metadata": {
        "id": "VleAwVzGczyR"
      },
      "source": [
        "## 6. Tài liệu tham khảo\n",
        "- https://vnoi.info/wiki/cs/imageprocessing/Seam-Carving.md\n",
        "- https://en.wikipedia.org/wiki/Seam_carving#cite_note-ACM1276390-1\n",
        "\n",
        "\n",
        "- Song song\n",
        "  - https://shwestrick.github.io/2020/07/29/seam-carve.html"
      ]
    }
  ]
}