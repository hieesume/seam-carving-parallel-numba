{
 "cells": [
  {
   "cell_type": "markdown",
   "metadata": {
    "id": "3xIqYm99X4Np"
   },
   "source": [
    "# Báo cáo Đồ án Song song hóa và tối ưu hóa một ứng dụng\n",
    "- Thông tin nhóm\n",
    "  - Lê Thanh Hiếu - 1712434\n",
    "  - Nguyễn Văn Tuấn - 1512638\n",
    "  - Phan Hữu Tú - 1712861"
   ]
  },
  {
   "cell_type": "markdown",
   "metadata": {
    "id": "oMOTeJ9GcG05"
   },
   "source": [
    "## 1. Mô tả ứng dụng\n",
    "- **Ứng dụng**: **Thay đổi kích thước ảnh bằng Seam Carving**\n",
    "    - **Input**: một tấm ảnh (RGB)\n",
    "    - **Output**: một tấm ảnh mới được thay đổi kích thước (không chỉ cho chiều rộng mà còn cho chiều cao, không chỉ thu nhỏ mà còn phóng to) từ tấm ảnh gốc mà không làm biến dạng các đối tượng quan trọng.\n",
    "- **Ý nghĩa thực tế khi sử dụng?**\n",
    "    - Khi muốn có các phiên bản với các kích thước khác nhau của cùng một tấm ảnh để hiển thị trên các thiết bị khác nhau (máy tính, điện thoại, ...)\n",
    "   - Một ví dụ thực tế khi tạo thumbnail (ảnh đại diện) cho 1 video chúng ta sẽ dựa vào nhưng yếu tố khác để resize ảnh về đúng khung hình ta mong muốn như màn hình điện thoại 16:9 , 3:4\n",
    "\n",
    "- **Ứng dụng này có cần tăng tốc không?**  \n",
    "    - Vì seam carving rất chậm khi cài đặt tuần tự và có tiềm năng song song hóa.<br/>\n",
    "    ![](readmeimages/seam_carving.png) <br/>\n",
    "> Nguồn ảnh: Slides Lập trình song song HK1\n"
   ]
  },
  {
   "cell_type": "markdown",
   "metadata": {
    "id": "76lJE8TAYCOO"
   },
   "source": [
    "## 2. Cài đặt tuần tự\n"
   ]
  },
  {
   "cell_type": "markdown",
   "metadata": {
    "id": "aqUbPuiqcJ-Y"
   },
   "source": [
    "### 2.1. Thiết kế\n",
    "- **Ý tưởng**: \n",
    "    - Một seam: một tập các pixel, mỗi dòng một pixel,pixel của dòng r & dòng r+1 được kết nối với nhau\n",
    "    - Việc thay đổi kích thước ảnh được thực hiện bằng cách loại bỏ đi các điểm ảnh ít quan trọng và giữ lại các điểm ảnh quan trọng.\n"
   ]
  },
  {
   "cell_type": "markdown",
   "metadata": {
    "id": "_S1yl5PMaFCK"
   },
   "source": [
    "#### 2.1.1. Các bước triển khai thuật toán\n",
    "\n",
    "![](readmeimages/workflow.png)"
   ]
  },
  {
   "cell_type": "markdown",
   "metadata": {
    "id": "34jIRDYTlXbc"
   },
   "source": [
    "##### Thuật toán xóa seam theo cột\n",
    "  - Bước 1: Chuyển ảnh từ RGB sang Grayscale\n",
    "  - Bước 2: Tính bảng Energy của ảnh\n",
    "  - Bước 3: Tìm bảng chi phí nhỏ nhất\n",
    "  - Bước 4: Tìm seam có chi phí nhỏ nhất\n",
    "  - Bước 5: Xóa seam nhỏ nhất tìm được ở bước 4\n",
    "  - Bước 6: Lặp lại bước 5 cho tới khi xóa  đủ số seams cần xóa\n"
   ]
  },
  {
   "cell_type": "markdown",
   "metadata": {
    "id": "4PwDJ0S_4QPn"
   },
   "source": [
    "##### Thuật toán xóa seam theo hàng\n",
    "  - Bước 1: Xoay ảnh một góc 90 độ theo chiều kim đồng hồ\n",
    "  - Bước 2: Lặp lại thuật toán xóa seam theo cột cho đến khi xóa đủ số seams cần xóa\n",
    "  - Bước 3: Xoay ảnh lại một góc 90 độ ngược chiều kim đồng hồ"
   ]
  },
  {
   "cell_type": "markdown",
   "metadata": {
    "id": "u5aZHBRf4TFS"
   },
   "source": [
    "##### Thuật toán chèn seam theo cột\n",
    "  - Bước 1: Thực hiện thuật toán xóa seam theo cột trên một ảnh được sao chép từ ảnh gốc và lưu lại danh sách các điểm ảnh đã xóa theo đúng thứ tự đã xóa\n",
    "  - Bước 2: Chèn các seams vào ảnh gốc theo đúng thứ tự tọa độ đã lưu. Với giá trị của pixel được chèn được lấy bằng trung bình của 2 pixels kế bên."
   ]
  },
  {
   "cell_type": "markdown",
   "metadata": {
    "id": "gQnIuv3r4UYw"
   },
   "source": [
    "##### Thuật toán chèn seam theo hàng\n",
    "  - Bước 1: Xoay ảnh 90 độ theo chiều kim đồng hồ\n",
    "  - Bước 2: Thực hiện thuật toán chèn seam theo cột cho đến khi đủ số seams cần xóa\n",
    "  - Bước 3: Xoay ảnh lại một góc 90 độ ngược chiều kim đồng hồ"
   ]
  },
  {
   "cell_type": "markdown",
   "metadata": {
    "id": "E4quhweLaPmh"
   },
   "source": [
    "#### 2.1.2. Chi tiết thuật toán backward energy"
   ]
  },
  {
   "cell_type": "markdown",
   "metadata": {},
   "source": [
    "##### Xây dựng bảng Energy\n",
    "- Chuyển ảnh từ rgb sang graysale\n",
    "- Dùng edge detetion\n",
    "    - Phát hiện ảnh theo chiều x (1): thực hiện convolution giữa ảnh grayscale với bộ lọc x-Sobel\n",
    "    - Phát hiện ảnh theo chiều y (2): thực hiện convolution giữa ảnh grayscale với bộ lọc y-Sobel\n",
    "- Độ quan trọng của mỗi pixel = abs(kết quả tương ứng của (1)) + abs(kết quả tương ứng của (2))"
   ]
  },
  {
   "cell_type": "markdown",
   "metadata": {},
   "source": [
    "##### Xây dựng bảng chi phí nhỏ nhất\n",
    "- Sử dụng Dynamic Programming để xây dựng bảng chi phí nhỏ nhất\n",
    "    - Ở hàng trên cùng ta có tổng chi phí giữ nguyên. Với các hàng còn lại, chi phí của mỗi pixel bằng engergy của nó cộng với chi phí nhỏ nhất của 3 pixel liền kề phía trên. <br/>\n",
    "    ![](readmeimages/algo1.png)<br/>\n",
    "    > Nguồn ảnh: https://github.com/kalpeshdusane/Seam-Carving-B.E.-Project\n",
    "\n",
    "    - Lặp lại quá trình cho đến hàng cuối cùng ta được bảng chi phí nhỏ nhất. <br/>\n",
    "    ![](readmeimages/algo2.png)\n",
    "    > Nguồn ảnh: https://github.com/kalpeshdusane/Seam-Carving-B.E.-Project\n"
   ]
  },
  {
   "cell_type": "markdown",
   "metadata": {},
   "source": [
    "##### Xác định seam nhỏ nhất\n",
    "- Từ bảng chi phí nhỏ nhất trên ta xác định được vị trí có tổng chi phí nhỏ nhất ở hàng cuối cùng và quay lui để xác định seam nhỏ nhất<br/>\n",
    "![](readmeimages/algo3.png)\n",
    "> Nguồn ảnh: https://github.com/kalpeshdusane/Seam-Carving-B.E.-Project"
   ]
  },
  {
   "cell_type": "markdown",
   "metadata": {},
   "source": [
    "#### 2.1.3 Chi tiết thuật toán forward energy (cải tiến backward energy)"
   ]
  },
  {
   "cell_type": "markdown",
   "metadata": {},
   "source": [
    "##### Ý tưởng cải tiến\n",
    "- Forward Energy dự đoán những điểm ảnh nào sẽ liền kề sau khi loại bỏ đường seam và sử dụng điều đó để đề xuất đường seam tốt nhất để loại bỏ. Điều này trái ngược với backward energy."
   ]
  },
  {
   "cell_type": "markdown",
   "metadata": {},
   "source": [
    "##### Tại sao phải cải tiến?\n",
    "\n",
    "   ![](readmeimages/backwards-example.png)\n",
    "\n",
    "- Đối với thuật toán cũ thì công thức tính toán năng lượng nhỏ nhất của 1 pixel dựa vào 3 pixel liền kề phía trên. \n",
    "    ![](readmeimages/differents.png)\n",
    "    > Nguồn ảnh: https://avikdas.com/2019/07/29/improved-seam-carving-with-forward-energy.html\n",
    "\n",
    "- Điều này sẽ gây trở ngại lớn nếu cả 3 pixel có độ chênh lệch không lớn, và dẫn tới việc loại bỏ seam (điểm có năng lượng nhỏ nhất) thì lại vô tình bỏ đi phần quan trọng của texture trong tấm hình.\n"
   ]
  },
  {
   "cell_type": "markdown",
   "metadata": {},
   "source": [
    "##### Mô tả thuật toán\n",
    "Hình dưới là mô tả rõ nét giữa 2 seams liên tiếp nằm trong 1 đường seam của hình. Như vậy, chúng ta sẽ có 3 trường hợp như trong hình, \n",
    "- seam (x-1, y-1) liên kết seam (x, y)\n",
    "- seam (x, y-1) liên kết seam (x, y)\n",
    "- seam (x+1, y-1) liên kết seam (x, y)\n",
    "    ![](readmeimages/seam-removal-new-edges.png)\n",
    "    > Nguồn ảnh: https://avikdas.com/2019/07/29/improved-seam-carving-with-forward-energy.html\n",
    "\n",
    "Tiếp theo, chúng ta phải xem xét những pixel nào được kết hợp với nhau bằng cách loại bỏ một pixel cụ thể. Điều này phụ thuộc vào việc pixel hiện tại được kết nối với một đường seam ở trên cùng bên trái (top-left), trên cùng (top-center) hoặc trên cùng bên phải (top-right). \n",
    "\n",
    "Ví dụ: nếu pixel hiện tại (x, y) kết nối với đường nối ở trên cùng bên trái (x - 1, y - 1), thì các biên cạnh mới được tạo thành do sự giao nhau mới giữa các pixel:\n",
    "\n",
    "- Pixel ở bên trái của pixel hiện tại, với tọa độ (x-1, y), hiện đang chạm vào pixel ở bên phải của pixel hiện tại, có tọa độ (x + 1, y).\n",
    "\n",
    "- Pixel phía trên pixel hiện tại, có tọa độ (x, y − 1), hiện đang chạm vào pixel ở bên trái của pixel hiện tại, có tọa độ (x − 1, y).\n",
    "\n",
    "Vì các cặp pixel này sẽ chạm nhau sau khi loại bỏ đường seam, ta sẽ so sánh sự khác biệt về màu sắc giữa mỗi cặp pixel. Lưu ý rằng chỉ xem xét các cạnh mới liên quan đến pixel trong hàng hiện tại, vì hàng trước đó được tính (do thực hiện tuần tự từng hàng).\n",
    "\n"
   ]
  },
  {
   "cell_type": "markdown",
   "metadata": {},
   "source": [
    "##### Các công thức thực hiện\n",
    "- Ta quy định lần lượt: L = top-left, U = top-center, R = top-right\n",
    "\n",
    "- Công thức tính độ chênh lệch giữa 2 điểm ảnh bất kỳ (grayscale):\n",
    "<br>\n",
    "\n",
    "$$D(x, y) = \\lvert M_{p_0} - M_{p_1} \\rvert$$\n",
    "\n",
    "\n",
    "\n",
    "- Công thức tính độ chênh lệch giữa các cặp pixel tạo ra biên cạnh mới (phục vụ quy hoạch động):\n",
    "\n",
    "$C_{L}(x, y) = D[(x - 1, y), (x + 1, y)] + D[(x, y - 1), (x - 1, y)]$\n",
    "<br>\n",
    "$C_{U}(x, y) = D[(x - 1, y), (x + 1, y)]$\n",
    "<br>\n",
    "$C_{R}(x, y) = D[(x - 1, y), (x + 1, y)] + D[(x, y - 1), (x + 1, y)]$\n",
    "\n",
    "\n",
    "\n",
    "- Không giống như trước đây, mỗi lựa chọn seam để tiếp tục kết nối các pixel khác nhau lại với nhau nó thuộc đường seam. Điều này có nghĩa là ta phải xem xét 3 chi phí khác nhau trong mỗi trường hợp (L, U, R). \n",
    "<br>\n",
    "    - Ví dụ: nếu tiếp tục đường seam là từ pixel trên cùng bên trái (L), ta phải xem xét chi phí CL. Cuối cùng, chúng tôi chọn tùy chọn năng lượng thấp nhất trong số tất cả các tùy chọn này với công thức quy hoạch động:\n",
    "    \n",
    "$$ M(x, y) = \\begin{cases} M(x - 1, y - 1) + C_{L}(x, y)  \\\\  M(x, y - 1) + C_{U}(x, y) \\\\  M(x + 1, y - 1) + C_{R}(x, y) \\end{cases} $$\n",
    "\n",
    "\n",
    "- Từ công thức này, ta có thể thấy, mỗi bước forward energy đều dự đoán được seam tiếp theo dựa trên việc dự đoán khi bỏ seam đó đi thì các biên cạnh mới đc tạo thành độ kết nối giữa các cặp pixel lớn hay nhỏ.\n"
   ]
  },
  {
   "cell_type": "markdown",
   "metadata": {},
   "source": [
    "### 2.2. Đánh giá"
   ]
  },
  {
   "cell_type": "markdown",
   "metadata": {},
   "source": [
    "#### 2.2.1 Đánh giá về kết quả"
   ]
  },
  {
   "cell_type": "markdown",
   "metadata": {},
   "source": [
    "##### Kết quả giữa hàm backward energy và forward energy"
   ]
  },
  {
   "cell_type": "markdown",
   "metadata": {},
   "source": [
    "| backward_energy | forward_energy|\n",
    "|:---:|:---:|\n",
    "|<img src=\"images/ouput_backward_energy.jpg\" width=\"350\">|<img src=\"images/ouput_forward_energy.jpg\" width=\"350\">|"
   ]
  },
  {
   "cell_type": "markdown",
   "metadata": {},
   "source": [
    "##### Kết quả theo số seam"
   ]
  },
  {
   "cell_type": "markdown",
   "metadata": {},
   "source": [
    "| Số seams |                  Xóa theo cột                   |                Xóa theo hàng                 |                  Chèn theo cột                  |                Chèn theo hàng                 |\n",
    "| :------: | :---------------------------------------------: | :------------------------------------------: | :---------------------------------------------: | :-------------------------------------------: |\n",
    "|   100    | ![](images/output_remove100seams_by_column.jpg) | ![](images/output_remove100seams_by_row.jpg) | ![](images/output_remove100seams_by_column.jpg) | ![](images/output_insert100seams_by_rows.jpg) |\n",
    "|   300    | ![](images/output_remove300seams_by_column.jpg) | ![](images/output_remove300seams_by_row.jpg) | ![](images/output_insert300seams_by_column.jpg) | ![](images/output_insert300seams_by_rows.jpg) |\n",
    "|   600    | ![](images/output_remove600seams_by_column.jpg) | ![](images/output_remove600seams_by_row.jpg)  | ![](images/output_insert600seams_by_column.jpg) | ![](images/output_insert600seams_by_rows.jpg) |"
   ]
  },
  {
   "cell_type": "markdown",
   "metadata": {},
   "source": [
    "__So sánh kết quả hàm forward energy với bài báo gốc__"
   ]
  },
  {
   "cell_type": "markdown",
   "metadata": {},
   "source": [
    "| Ảnh gốc | Results (paper) | Forward Energy (nhóm tự cài đặt)|\n",
    "|:---:|:---:|:---:|\n",
    "|![](readmeimages/rain_origin.png)|![](readmeimages/rain_result_paper.png)|![](readmeimages/rain_remove150seams_by_column.jpg)|"
   ]
  },
  {
   "cell_type": "markdown",
   "metadata": {},
   "source": [
    "__Nhận xét__: Phiên bản tự cài đặt của nhóm cho kết quả khá tốt, gần như tương đương so với paper gốc"
   ]
  },
  {
   "cell_type": "markdown",
   "metadata": {},
   "source": [
    "#### 2.2.2. Đánh giá về thời gian"
   ]
  },
  {
   "cell_type": "markdown",
   "metadata": {},
   "source": [
    "##### Thời gian giữa hàm backward energy và forward energy"
   ]
  },
  {
   "cell_type": "markdown",
   "metadata": {},
   "source": [
    "Thời gian tính backward energy và forward energy với input là bức ảnh có kích thước 968x1428\n",
    "\n",
    "|backward energy|forward energy|\n",
    "|:---:|:---:|\n",
    "|1.247s |0.731s |"
   ]
  },
  {
   "cell_type": "markdown",
   "metadata": {},
   "source": [
    "##### Thời gian chạy theo số seam\n",
    "\n",
    "| Số seams | Xóa theo cột | Xóa theo hàng | Chèn theo cột | Chèn theo hàng |\n",
    "| :------: | :----------: | :-----------: | :-----------: | :------------: |\n",
    "|   100    |   26.952s    |    26.437s    |    28.313s    |    27.982s     |\n",
    "|   300    |   71.227s    |    67.611s    |    80.591s    |    78.045s     |\n",
    "|   600    |   125.444s   |    108.591s   |   140.174s    |    129.985s    |\n",
    "\n",
    "Tổng thời gian: 914.206s"
   ]
  },
  {
   "cell_type": "markdown",
   "metadata": {
    "id": "zNoc6i8mcRdj"
   },
   "source": [
    "## 3. Cài đặt song song"
   ]
  },
  {
   "cell_type": "markdown",
   "metadata": {},
   "source": [
    "### 3.1. Phân tích"
   ]
  },
  {
   "cell_type": "markdown",
   "metadata": {},
   "source": [
    "__Đo thời gian của các phần của phiên bản tuần tự để quyết định thành phần cần song song hóa__"
   ]
  },
  {
   "cell_type": "markdown",
   "metadata": {},
   "source": [
    "| Hàm              | Thời gian chạy |\n",
    "| ---------------- | -------------- |\n",
    "| rgb2gray         | 0.0348s        |\n",
    "| forward_energy   | 0.1124s        |\n",
    "| get_minimum_seam | 0.0560s        |\n",
    "| remove_seam      | 0.0383s        |\n",
    "| insert_seam      | 0.0235s        |"
   ]
  },
  {
   "cell_type": "markdown",
   "metadata": {},
   "source": [
    "Nhận thấy rằng các hàm trong quá trình thực hiện thuật toán seam carving có thời gian chạy tương đối lớn và đều có tiềm năng song song hóa nên nhóm tiến hành song song hóa tất cả các bước trên."
   ]
  },
  {
   "cell_type": "markdown",
   "metadata": {},
   "source": [
    "### 3.2. Thiết kế"
   ]
  },
  {
   "cell_type": "markdown",
   "metadata": {},
   "source": [
    "#### 3.2.1. Chuyển ảnh RGB sang ảnh xám trên hàm Kernel "
   ]
  },
  {
   "cell_type": "markdown",
   "metadata": {},
   "source": [
    "- Mỗi thread sẽ chịu trách nhiệm tính kết quả grayscale cho một pixel."
   ]
  },
  {
   "cell_type": "markdown",
   "metadata": {},
   "source": [
    "#### 3.2.2. Tính bảng năng lượng trên hàm Kernel "
   ]
  },
  {
   "cell_type": "markdown",
   "metadata": {},
   "source": [
    "Vì hàm forward energy có sử  dụng một bảng tích lũy năng lượng để tính toán các đường nối bằng quy hoạch động nên kết quả dòng phía dưới phải dựa vào dòng phía trên"
   ]
  },
  {
   "cell_type": "markdown",
   "metadata": {},
   "source": [
    "#### 3.2.3. Tìm seam có chi phí nhỏ nhất trên hàm Kernel "
   ]
  },
  {
   "cell_type": "markdown",
   "metadata": {},
   "source": [
    "Để tìm seam có chi phí nhỏ nhất ta cần tìm bảng chi phí nhỏ nhất.  \n",
    "- Vì chi phí nhỏ nhất của mỗi pixel đươc tính bằng cách cộng thêm chi phí nhỏ nhất của 1 trong 3 pixel kề trên nên ta có thể song song hóa việc tính toán theo từng dòng.\n",
    "- Khi gọi hàm kernel này, threads sẽ được tạo cho mỗi column, bảng chi phí nhỏ nhất được tạo theo từng dòng, với mỗi thread sẽ tính chi phí cho một pixel trên dòng đó.  \n",
    "- Vì mỗi dòng của bảng chi phí nhỏ nhất sẽ phụ thuộc vào dòng phía trên, những threads sẽ phải synchronize sau mỗi dòng.  \n",
    "\n",
    "Sau khi hoàn tất quá trình xây dựng bảng chi phí nhỏ nhất, ta xác định được pixel có chi phí nhỏ nhất ở dòng cuối cùng của bảng. Bắt đầu từ pixel đó, ta sẽ quay lui để tìm seam cần xóa."
   ]
  },
  {
   "cell_type": "markdown",
   "metadata": {},
   "source": [
    "#### 3.2.4. Xóa seam trên hàm Kernel "
   ]
  },
  {
   "cell_type": "markdown",
   "metadata": {},
   "source": [
    "- Đối với hàm xóa seams thì các xử lý pixels của ảnh là độc lập, từ đó ta có thể tối ưu hóa bằng hàm kernel được áp dụng trên từng điểm ảnh của hình.\n",
    "- Việc xóa seams bản chất là gán lại giá trị của từng pixels trên ảnh gốc sang ảnh kết quả, các phép gán độc lập có thể được thực hiện trên từng threads.\n"
   ]
  },
  {
   "cell_type": "markdown",
   "metadata": {},
   "source": [
    "#### 3.2.5. Chèn seam trên hàm Kernel "
   ]
  },
  {
   "cell_type": "markdown",
   "metadata": {},
   "source": [
    "- Tương tự với xóa seams, các pixels của ảnh là độc lập, từ đó ta có thể tối ưu hóa bằng hàm kernel được áp dụng trên từng điểm ảnh của hình.\n",
    "- Việc chèn seams bản chất là gán lại giá trị của từng pixels trên ảnh gốc sang ảnh kết quả, các phép gán độc lập có thể được thực hiện trên từng threads.\n"
   ]
  },
  {
   "cell_type": "markdown",
   "metadata": {
    "id": "V_Byj2MjcViX"
   },
   "source": [
    "## 4. Tối ưu hóa cài đặt song song"
   ]
  },
  {
   "cell_type": "markdown",
   "metadata": {
    "id": "kdfYaOCrcwfW"
   },
   "source": [
    "## 5. Nhìn lại quá trình làm đồ án"
   ]
  },
  {
   "cell_type": "markdown",
   "metadata": {
    "id": "VleAwVzGczyR"
   },
   "source": [
    "## 6. Tài liệu tham khảo\n",
    "- https://vnoi.info/wiki/cs/imageprocessing/Seam-Carving.md\n",
    "- https://en.wikipedia.org/wiki/Seam_carving#cite_note-ACM1276390-1\n",
    "- Forward energy: [Improved Seam Carving for Video Retargeting](https://faculty.idc.ac.il/arik/SCWeb/vidret/index.html)\n",
    "- Song song\n",
    "  - https://shwestrick.github.io/2020/07/29/seam-carve.html"
   ]
  },
  {
   "cell_type": "code",
   "execution_count": null,
   "metadata": {},
   "outputs": [],
   "source": []
  }
 ],
 "metadata": {
  "colab": {
   "collapsed_sections": [],
   "name": "report_cpu.ipynb",
   "provenance": [],
   "toc_visible": true
  },
  "kernelspec": {
   "display_name": "Python 3",
   "language": "python",
   "name": "python3"
  },
  "language_info": {
   "codemirror_mode": {
    "name": "ipython",
    "version": 3
   },
   "file_extension": ".py",
   "mimetype": "text/x-python",
   "name": "python",
   "nbconvert_exporter": "python",
   "pygments_lexer": "ipython3",
   "version": "3.7.9"
  }
 },
 "nbformat": 4,
 "nbformat_minor": 1
}