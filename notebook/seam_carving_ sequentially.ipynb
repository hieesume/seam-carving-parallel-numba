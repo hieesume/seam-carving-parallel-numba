{
 "metadata": {
  "language_info": {
   "codemirror_mode": {
    "name": "ipython",
    "version": 3
   },
   "file_extension": ".py",
   "mimetype": "text/x-python",
   "name": "python",
   "nbconvert_exporter": "python",
   "pygments_lexer": "ipython3",
   "version": "3.9.1"
  },
  "orig_nbformat": 2,
  "kernelspec": {
   "name": "python3",
   "display_name": "Python 3",
   "language": "python"
  }
 },
 "nbformat": 4,
 "nbformat_minor": 2,
 "cells": [
  {
   "cell_type": "code",
   "execution_count": 1,
   "metadata": {},
   "outputs": [],
   "source": [
    "import numba"
   ]
  },
  {
   "cell_type": "code",
   "execution_count": 2,
   "metadata": {},
   "outputs": [],
   "source": [
    "from numba import jit\n",
    "import numpy as np"
   ]
  },
  {
   "cell_type": "code",
   "execution_count": 3,
   "metadata": {},
   "outputs": [
    {
     "output_type": "stream",
     "name": "stdout",
     "text": [
      "[[  9.  10.  11.  12.  13.  14.  15.  16.  17.  18.]\n [ 19.  20.  21.  22.  23.  24.  25.  26.  27.  28.]\n [ 29.  30.  31.  32.  33.  34.  35.  36.  37.  38.]\n [ 39.  40.  41.  42.  43.  44.  45.  46.  47.  48.]\n [ 49.  50.  51.  52.  53.  54.  55.  56.  57.  58.]\n [ 59.  60.  61.  62.  63.  64.  65.  66.  67.  68.]\n [ 69.  70.  71.  72.  73.  74.  75.  76.  77.  78.]\n [ 79.  80.  81.  82.  83.  84.  85.  86.  87.  88.]\n [ 89.  90.  91.  92.  93.  94.  95.  96.  97.  98.]\n [ 99. 100. 101. 102. 103. 104. 105. 106. 107. 108.]]\n"
     ]
    }
   ],
   "source": [
    "# test numba in python code \n",
    "x = np.arange(100).reshape(10, 10)\n",
    "\n",
    "@jit(nopython=True) # Set \"nopython\" mode for best performance, equivalent to @njit\n",
    "def go_fast(a): # Function is compiled to machine code when called the first time\n",
    "    trace = 0.0\n",
    "    for i in range(a.shape[0]):   # Numba likes loops\n",
    "        trace += np.tanh(a[i, i]) # Numba likes NumPy functions\n",
    "    return a + trace              # Numba likes NumPy broadcasting\n",
    "\n",
    "print(go_fast(x))"
   ]
  },
  {
   "cell_type": "code",
   "execution_count": 4,
   "metadata": {},
   "outputs": [],
   "source": [
    "def calc_energy(Img):\n",
    "    I = Img.astype(float)\n",
    "    I = np.concatenate((I,np.zeros((I.shape[0],1))), axis=1)\n",
    "    I = np.concatenate((I,np.zeros((1,I.shape[1]))), axis=0)\n",
    "    Dx = I[:-1, 1:] - I[:-1, :-1]\n",
    "    Dy = I[1:, :-1] - I[:-1, :-1]\n",
    "    E = np.sqrt(Dx**2 + Dy**2)\n",
    "    E = E.astype(np.uint8)\n",
    "    return E\n",
    "    "
   ]
  },
  {
   "cell_type": "code",
   "execution_count": 5,
   "metadata": {},
   "outputs": [],
   "source": [
    "def minimum_seam(img):\n",
    "    r, c = img.shape\n",
    "    energy_map = calc_energy(img)\n",
    "    M = energy_map.copy()\n",
    "    backtrack = np.zeros_like(M, dtype=np.int)\n",
    "    for i in range(1, r):\n",
    "        for j in range(0, c):\n",
    "            # Handle the left edge of the image, to ensure we don't index -1\n",
    "            if j == 0:\n",
    "                idx = np.argmin(M[i - 1, j:j + 2])\n",
    "                backtrack[i, j] = idx + j\n",
    "                min_energy = M[i - 1, idx + j]\n",
    "            else:\n",
    "                idx = np.argmin(M[i - 1, j - 1:j + 2])\n",
    "                backtrack[i, j] = idx + j - 1\n",
    "                min_energy = M[i - 1, idx + j - 1]\n",
    "\n",
    "            M[i, j] += min_energy\n",
    "\n",
    "    return M, backtrack\n"
   ]
  },
  {
   "cell_type": "code",
   "execution_count": 6,
   "metadata": {},
   "outputs": [],
   "source": [
    "def carve_column(img):\n",
    "    r, c = img.shape\n",
    "    M, backtrack = minimum_seam(img)\n",
    "    mask = np.ones((r, c), dtype=np.bool)\n",
    "    j = np.argmin(M[-1])\n",
    "    for i in reversed(range(r)):\n",
    "        mask[i, j] = False\n",
    "        j = backtrack[i, j]\n",
    "    mask = np.stack([mask] * 3, axis=2)\n",
    "    img = cv2.resize(img,(int(r),int(c-1)))\n",
    "    return img\n",
    "\n",
    "def crop_c(img, scale_c):\n",
    "    r, c = img.shape\n",
    "    new_c = int(scale_c * c)\n",
    "    for i in range(c - new_c): # use range if you don't want to use tqdm\n",
    "        print(\"processing ...: \" + i)\n",
    "        img = carve_column(img)\n",
    "    return img\n"
   ]
  },
  {
   "cell_type": "code",
   "execution_count": null,
   "metadata": {},
   "outputs": [],
   "source": [
    "    in_filename = './images/pietro_carved.jpg'\n",
    "    out_filename = './images/out.jpg'\n",
    "    # Buoc 1: Đọc ảnh mức xám Img\n",
    "    # cv2.imread('toctien.jpg')\n",
    "    Img = cv2.imread('./images/pietro_carved.jpg', 0)\n",
    "    # cv2.imshow('Anh goc', Img)\n",
    "    print('Kich thuoc ban dau cua Img: ', Img.shape)\n",
    "    E = calc_energy(Img)\n",
    "    # Img = carve_column(Img)\n",
    "    Img = crop_c(Img, 0.5)\n",
    "    print(Img)\n",
    "    cv2.imwrite(out_filename, Img)\n",
    "    # print('Kich thuoc anh nang luong E: ', E.shape)\n",
    "    # cv2.imshow('Anh nang luong', E)\n",
    "    # cv2.waitKey(0)\n",
    "    # cv2.destroyAllWindows()"
   ]
  }
 ]
}