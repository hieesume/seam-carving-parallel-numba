{
 "cells": [
  {
   "cell_type": "markdown",
   "metadata": {
    "id": "3xIqYm99X4Np"
   },
   "source": [
    "# Báo cáo Đồ án Song song hóa và tối ưu hóa một ứng dụng\n",
    "- Thông tin nhóm\n",
    "  - Lê Thanh Hiếu - 1712434\n",
    "  - Nguyễn Văn Tuấn - 1512638\n",
    "  - Phan Hữu Tú - 1712861"
   ]
  },
  {
   "cell_type": "markdown",
   "metadata": {
    "id": "oMOTeJ9GcG05"
   },
   "source": [
    "## 1. Mô tả ứng dụng\n",
    "- **Ứng dụng**: **Thay đổi kích thước ảnh bằng Seam Carving**\n",
    "    - **Input**: một tấm ảnh (RGB)\n",
    "    - **Output**: một tấm ảnh mới được thay đổi kích thước (không chỉ cho chiều rộng mà còn cho chiều cao, không chỉ thu nhỏ mà còn phóng to) từ tấm ảnh gốc mà không làm biến dạng các đối tượng quan trọng.\n",
    "- **Ý nghĩa thực tế khi sử dụng?**\n",
    "    - Khi muốn có các phiên bản với các kích thước khác nhau của cùng một tấm ảnh để hiển thị trên các thiết bị khác nhau (máy tính, điện thoại, ...)\n",
    "   - Một ví dụ thực tế khi tạo thumbnail (ảnh đại diện) cho 1 video chúng ta sẽ dựa vào nhưng yếu tố khác để resize ảnh về đúng khung hình ta mong muốn như màn hình điện thoại 16:9 , 3:4\n",
    "\n",
    "- **Ứng dụng này có cần tăng tốc không?**  \n",
    "    - Vì seam carving rất chậm khi cài đặt tuần tự và có tiềm năng song song hóa.<br/>\n",
    "    ![](readmeimages/seam_carving.png) <br/>\n",
    "> Nguồn ảnh: Slides Lập trình song song HK1\n"
   ]
  },
  {
   "cell_type": "markdown",
   "metadata": {
    "id": "76lJE8TAYCOO"
   },
   "source": [
    "## 2. Cài đặt tuần tự\n"
   ]
  },
  {
   "cell_type": "markdown",
   "metadata": {
    "id": "aqUbPuiqcJ-Y"
   },
   "source": [
    "### 2.1. Thiết kế\n",
    "- **Ý tưởng**: \n",
    "    - Một seam: một tập các pixel, mỗi dòng một pixel,pixel của dòng r & dòng r+1 được kết nối với nhau\n",
    "    - Việc thay đổi kích thước ảnh được thực hiện bằng cách loại bỏ đi các điểm ảnh ít quan trọng và giữ lại các điểm ảnh quan trọng.\n"
   ]
  },
  {
   "cell_type": "markdown",
   "metadata": {
    "id": "_S1yl5PMaFCK"
   },
   "source": [
    "#### 2.1.1. Các bước triển khai thuật toán\n",
    "\n",
    "![](readmeimages/workflow.png)"
   ]
  },
  {
   "cell_type": "markdown",
   "metadata": {
    "id": "34jIRDYTlXbc"
   },
   "source": [
    "##### Thuật toán xóa seam theo cột\n",
    "  - Bước 1: Chuyển ảnh từ RGB sang Grayscale\n",
    "  - Bước 2: Tính bảng Energy của ảnh\n",
    "  - Bước 3: Tìm bảng chi phí nhỏ nhất\n",
    "  - Bước 4: Tìm seam có chi phí nhỏ nhất\n",
    "  - Bước 5: Xóa seam nhỏ nhất tìm được ở bước 4\n",
    "  - Bước 6: Lặp lại bước 5 cho tới khi xóa  đủ số seams cần xóa\n"
   ]
  },
  {
   "cell_type": "markdown",
   "metadata": {
    "id": "4PwDJ0S_4QPn"
   },
   "source": [
    "##### Thuật toán xóa seam theo hàng\n",
    "  - Bước 1: Xoay ảnh một góc 90 độ theo chiều kim đồng hồ\n",
    "  - Bước 2: Lặp lại thuật toán xóa seam theo cột cho đến khi xóa đủ số seams cần xóa\n",
    "  - Bước 3: Xoay ảnh lại một góc 90 độ ngược chiều kim đồng hồ"
   ]
  },
  {
   "cell_type": "markdown",
   "metadata": {
    "id": "u5aZHBRf4TFS"
   },
   "source": [
    "##### Thuật toán chèn seam theo cột\n",
    "  - Bước 1: Thực hiện thuật toán xóa seam theo cột trên một ảnh được sao chép từ ảnh gốc và lưu lại danh sách các điểm ảnh đã xóa theo đúng thứ tự đã xóa\n",
    "  - Bước 2: Chèn các seams vào ảnh gốc theo đúng thứ tự tọa độ đã lưu. Với giá trị của pixel được chèn được lấy bằng trung bình của 2 pixels kế bên."
   ]
  },
  {
   "cell_type": "markdown",
   "metadata": {
    "id": "gQnIuv3r4UYw"
   },
   "source": [
    "##### Thuật toán chèn seam theo hàng\n",
    "  - Bước 1: Xoay ảnh 90 độ theo chiều kim đồng hồ\n",
    "  - Bước 2: Thực hiện thuật toán chèn seam theo cột cho đến khi đủ số seams cần xóa\n",
    "  - Bước 3: Xoay ảnh lại một góc 90 độ ngược chiều kim đồng hồ"
   ]
  },
  {
   "cell_type": "markdown",
   "metadata": {
    "id": "E4quhweLaPmh"
   },
   "source": [
    "#### 2.1.2. Chi tiết thuật toán"
   ]
  },
  {
   "cell_type": "markdown",
   "metadata": {},
   "source": [
    "##### Xây dựng bảng Energy\n",
    "- Chuyển ảnh từ rgb sang graysale\n",
    "- Dùng edge detetion\n",
    "    - Phát hiện ảnh theo chiều x (1): thực hiện convolution giữa ảnh grayscale với bộ lọc x-Sobel\n",
    "    - Phát hiện ảnh theo chiều y (2): thực hiện convolution giữa ảnh grayscale với bộ lọc y-Sobel\n",
    "- Độ quan trọng của mỗi pixel = abs(kết quả tương ứng của (1)) + abs(kết quả tương ứng của (2))"
   ]
  },
  {
   "cell_type": "markdown",
   "metadata": {},
   "source": [
    "##### Xây dựng bảng chi phí nhỏ nhất\n",
    "- Sử dụng Dynamic Programming để xây dựng bảng chi phí nhỏ nhất\n",
    "    - Ở hàng trên cùng ta có tổng chi phí giữ nguyên. Với các hàng còn lại, chi phí của mỗi pixel bằng engergy của nó cộng với chi phí nhỏ nhất của 3 pixel liền kề phía trên. <br/>\n",
    "    ![](readmeimages/algo1.png)<br/>\n",
    "    > Nguồn ảnh: https://github.com/kalpeshdusane/Seam-Carving-B.E.-Project\n",
    "\n",
    "    - Lặp lại quá trình cho đến hàng cuối cùng ta được bảng chi phí nhỏ nhất. <br/>\n",
    "    ![](readmeimages/algo2.png)\n",
    "    > Nguồn ảnh: https://github.com/kalpeshdusane/Seam-Carving-B.E.-Project\n"
   ]
  },
  {
   "cell_type": "markdown",
   "metadata": {},
   "source": [
    "##### Xác định seam nhỏ nhất\n",
    "- Từ bảng chi phí nhỏ nhất trên ta xác định được vị trí có tổng chi phí nhỏ nhất ở hàng cuối cùng và quay lui để xác định seam nhỏ nhất<br/>\n",
    "![](readmeimages/algo3.png)\n",
    "> Nguồn ảnh: https://github.com/kalpeshdusane/Seam-Carving-B.E.-Project"
   ]
  },
  {
   "cell_type": "markdown",
   "metadata": {},
   "source": [
    "### 2.2. Đánh giá"
   ]
  },
  {
   "cell_type": "markdown",
   "metadata": {},
   "source": [
    "#### 2.2.1 Đánh giá về kết quả\n",
    "\n",
    "| Số seams |         calc_energy          | get_minimum_seam |                  Xóa theo cột                   |                Xóa theo hàng                 |                  Chèn theo cột                  |                Chèn theo hàng                 |\n",
    "| :------: | :--------------------------: | :--------------: | :---------------------------------------------: | :------------------------------------------: | :---------------------------------------------: | :-------------------------------------------: |\n",
    "|    1     | ![](images/ouput_energy.jpg) |        -         |                        -                        |                      -                       |                        -                        |                       -                       |\n",
    "|    50    |              -               |        -         | ![](images/output_remove50seams_by_column.jpg)  | ![](images/output_remove50seams_by_row.jpg)  | ![](images/output_insert50seams_by_column.jpg)  | ![](images/output_insert50seams_by_rows.jpg)  |\n",
    "|   100    |              -               |        -         | ![](images/output_remove100seams_by_column.jpg) | ![](images/output_remove100seams_by_row.jpg) | ![](images/output_remove100seams_by_column.jpg) | ![](images/output_insert100seams_by_rows.jpg) |\n",
    "|   200    |              -               |        -         | ![](images/output_remove200seams_by_column.jpg) | ![](images/output_remove200seams_by_row.jpg) | ![](images/output_insert200seams_by_column.jpg) | ![](images/output_insert200seams_by_rows.jpg) |\n",
    "|   500    |              -               |        -         | ![](images/output_remove500seams_by_column.jpg) | ![](images/output_remove500seams_by_row.jpg)  | ![](images/output_insert500seams_by_column.jpg) | ![](images/output_insert500seams_by_rows.jpg) |\n",
    "|   900    |              -               |        -         | ![](images/output_remove900seams_by_column.jpg) | ![](images/output_remove900seams_by_row.jpg) | ![](images/output_insert900seams_by_column.jpg) | ![](images/output_insert900seams_by_rows.jpg) |"
   ]
  },
  {
   "cell_type": "markdown",
   "metadata": {},
   "source": [
    "#### 2.2.2. Đánh giá về thời gian\n",
    "\n",
    "| Số seams | calc_energy | get_minimum_seam | Xóa theo cột | Xóa theo hàng | Chèn theo cột | Chèn theo hàng |\n",
    "| :------: | :---------: | :--------------: | :----------: | :-----------: | :-----------: | :------------: |\n",
    "|    1     |   1.137s    |      1.847s      |      -       |       -       |       -       |       -        |\n",
    "|    50    |      -      |        -         |   13.965s    |    14.156s    |    14.102s    |    14.897s     |\n",
    "|   100    |      -      |        -         |   24.388s    |    24.803s    |    28.791s    |    27.947s     |\n",
    "|   200    |      -      |        -         |   51.509s    |    44.815s    |    52.849s    |    50.820s     |\n",
    "|   500    |      -      |        -         |   105.254s   |    91.250s    |   118.467s    |    109.687s    |\n",
    "|   900    |      -      |        -         |   157.822s   |   121.856s    |   185.654s    |    153.134s    |\n",
    "\n",
    "Tổng thời gian: 1409.179s"
   ]
  },
  {
   "cell_type": "markdown",
   "metadata": {
    "id": "zNoc6i8mcRdj"
   },
   "source": [
    "## 3. Cài đặt song song"
   ]
  },
  {
   "cell_type": "markdown",
   "metadata": {
    "id": "V_Byj2MjcViX"
   },
   "source": [
    "## 4. Tối ưu hóa cài đặt song song"
   ]
  },
  {
   "cell_type": "markdown",
   "metadata": {
    "id": "kdfYaOCrcwfW"
   },
   "source": [
    "## 5. Nhìn lại quá trình làm đồ án"
   ]
  },
  {
   "cell_type": "markdown",
   "metadata": {
    "id": "VleAwVzGczyR"
   },
   "source": [
    "## 6. Tài liệu tham khảo\n",
    "- https://vnoi.info/wiki/cs/imageprocessing/Seam-Carving.md\n",
    "- https://en.wikipedia.org/wiki/Seam_carving#cite_note-ACM1276390-1\n",
    "\n",
    "\n",
    "- Song song\n",
    "  - https://shwestrick.github.io/2020/07/29/seam-carve.html"
   ]
  }
 ],
 "metadata": {
  "colab": {
   "collapsed_sections": [],
   "name": "report_cpu.ipynb",
   "provenance": [],
   "toc_visible": true
  },
  "kernelspec": {
   "display_name": "Python 3",
   "language": "python",
   "name": "python3"
  },
  "language_info": {
   "codemirror_mode": {
    "name": "ipython",
    "version": 3
   },
   "file_extension": ".py",
   "mimetype": "text/x-python",
   "name": "python",
   "nbconvert_exporter": "python",
   "pygments_lexer": "ipython3",
   "version": "3.7.9"
  }
 },
 "nbformat": 4,
 "nbformat_minor": 1
}
